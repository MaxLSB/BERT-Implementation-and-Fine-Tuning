{
 "cells": [
  {
   "cell_type": "code",
   "execution_count": 2,
   "metadata": {},
   "outputs": [],
   "source": [
    "import torch\n",
    "import pandas as pd\n",
    "import numpy as np\n",
    "from torch.utils.data import Dataset, DataLoader\n",
    "from transformers import BertTokenizer, AutoModel\n",
    "from sklearn.model_selection import train_test_split\n",
    "import matplotlib.pyplot as plt\n",
    "from sklearn.metrics import confusion_matrix, ConfusionMatrixDisplay\n",
    "import seaborn as sns"
   ]
  },
  {
   "cell_type": "markdown",
   "metadata": {},
   "source": [
    "The emotions are classified into six categories: sadness (0), joy (1), love (2), anger (3), fear (4), and surprise (5)"
   ]
  },
  {
   "cell_type": "code",
   "execution_count": 116,
   "metadata": {},
   "outputs": [
    {
     "data": {
      "text/html": [
       "<div>\n",
       "<style scoped>\n",
       "    .dataframe tbody tr th:only-of-type {\n",
       "        vertical-align: middle;\n",
       "    }\n",
       "\n",
       "    .dataframe tbody tr th {\n",
       "        vertical-align: top;\n",
       "    }\n",
       "\n",
       "    .dataframe thead th {\n",
       "        text-align: right;\n",
       "    }\n",
       "</style>\n",
       "<table border=\"1\" class=\"dataframe\">\n",
       "  <thead>\n",
       "    <tr style=\"text-align: right;\">\n",
       "      <th></th>\n",
       "      <th>Unnamed: 0</th>\n",
       "      <th>text</th>\n",
       "      <th>label</th>\n",
       "    </tr>\n",
       "  </thead>\n",
       "  <tbody>\n",
       "    <tr>\n",
       "      <th>0</th>\n",
       "      <td>0</td>\n",
       "      <td>i just feel really helpless and heavy hearted</td>\n",
       "      <td>4</td>\n",
       "    </tr>\n",
       "    <tr>\n",
       "      <th>1</th>\n",
       "      <td>1</td>\n",
       "      <td>ive enjoyed being able to slouch about relax a...</td>\n",
       "      <td>0</td>\n",
       "    </tr>\n",
       "    <tr>\n",
       "      <th>2</th>\n",
       "      <td>2</td>\n",
       "      <td>i gave up my internship with the dmrg and am f...</td>\n",
       "      <td>4</td>\n",
       "    </tr>\n",
       "    <tr>\n",
       "      <th>3</th>\n",
       "      <td>3</td>\n",
       "      <td>i dont know i feel so lost</td>\n",
       "      <td>0</td>\n",
       "    </tr>\n",
       "    <tr>\n",
       "      <th>4</th>\n",
       "      <td>4</td>\n",
       "      <td>i am a kindergarten teacher and i am thoroughl...</td>\n",
       "      <td>4</td>\n",
       "    </tr>\n",
       "  </tbody>\n",
       "</table>\n",
       "</div>"
      ],
      "text/plain": [
       "   Unnamed: 0                                               text  label\n",
       "0           0      i just feel really helpless and heavy hearted      4\n",
       "1           1  ive enjoyed being able to slouch about relax a...      0\n",
       "2           2  i gave up my internship with the dmrg and am f...      4\n",
       "3           3                         i dont know i feel so lost      0\n",
       "4           4  i am a kindergarten teacher and i am thoroughl...      4"
      ]
     },
     "execution_count": 116,
     "metadata": {},
     "output_type": "execute_result"
    }
   ],
   "source": [
    "df = pd.read_csv('data/twitter_emotions.csv')\n",
    "df.head(5)"
   ]
  },
  {
   "cell_type": "code",
   "execution_count": 117,
   "metadata": {},
   "outputs": [
    {
     "name": "stdout",
     "output_type": "stream",
     "text": [
      "                                                text    label\n",
      "0      i just feel really helpless and heavy hearted     Fear\n",
      "1  ive enjoyed being able to slouch about relax a...  Sadness\n",
      "2  i gave up my internship with the dmrg and am f...     Fear\n",
      "3                         i dont know i feel so lost  Sadness\n",
      "4  i am a kindergarten teacher and i am thoroughl...     Fear\n"
     ]
    }
   ],
   "source": [
    "emotion_labels = {\n",
    "    0: 'Sadness',\n",
    "    1: 'Joy',\n",
    "    2: 'Love',\n",
    "    3: 'Anger',\n",
    "    4: 'Fear',\n",
    "    5: 'Surprise'\n",
    "}\n",
    "\n",
    "sample_df = df[['text', 'label']].head(5)\n",
    "sample_df['label'] = sample_df['label'].map(emotion_labels)\n",
    "print(sample_df)"
   ]
  },
  {
   "cell_type": "code",
   "execution_count": 118,
   "metadata": {},
   "outputs": [
    {
     "data": {
      "text/plain": [
       "(416809, 3)"
      ]
     },
     "execution_count": 118,
     "metadata": {},
     "output_type": "execute_result"
    }
   ],
   "source": [
    "df.shape"
   ]
  },
  {
   "cell_type": "code",
   "execution_count": 119,
   "metadata": {},
   "outputs": [
    {
     "data": {
      "text/plain": [
       "Unnamed: 0    0.0\n",
       "text          0.0\n",
       "label         0.0\n",
       "dtype: float64"
      ]
     },
     "execution_count": 119,
     "metadata": {},
     "output_type": "execute_result"
    }
   ],
   "source": [
    "df.isna().mean() * 100"
   ]
  },
  {
   "cell_type": "code",
   "execution_count": 120,
   "metadata": {},
   "outputs": [
    {
     "data": {
      "image/png": "[encoded data removed]",
      "text/plain": [
       "<Figure size 800x600 with 1 Axes>"
      ]
     },
     "metadata": {},
     "output_type": "display_data"
    }
   ],
   "source": [
    "label_counts = df['label'].value_counts()\n",
    "\n",
    "plt.figure(figsize=(8, 6))\n",
    "sns.countplot(x='label', data=df, hue='label' , legend=False)\n",
    "plt.title('Distribution of labels in the dataset')\n",
    "plt.xlabel('Label')\n",
    "plt.ylabel('Number of samples')\n",
    "plt.grid(axis='y')\n",
    "plt.show()"
   ]
  },
  {
   "cell_type": "code",
   "execution_count": 121,
   "metadata": {},
   "outputs": [
    {
     "name": "stderr",
     "output_type": "stream",
     "text": [
      "C:\\Users\\mlasb\\AppData\\Local\\Temp\\ipykernel_9844\\1058484019.py:10: DeprecationWarning: DataFrameGroupBy.apply operated on the grouping columns. This behavior is deprecated, and in a future version of pandas the grouping columns will be excluded from the operation. Either pass `include_groups=False` to exclude the groupings or explicitly select the grouping columns after groupby to silence this warning.\n",
      "  df = df.groupby('label').apply(lambda x: x.sample(min)).reset_index(drop=True)\n"
     ]
    }
   ],
   "source": [
    "# We Balance the dataset to have equal number of samples for each label.\n",
    "class EmotionDataset(Dataset):\n",
    "    def __init__(self, df, length):\n",
    "        self.df = df\n",
    "        self.length = length\n",
    "        self.df = self.balance_dataset(df)\n",
    "    \n",
    "    def balance_dataset(self, df):\n",
    "        min = df['label'].value_counts().min()\n",
    "        df = df.groupby('label').apply(lambda x: x.sample(min)).reset_index(drop=True)\n",
    "        return df.sample(self.length)\n",
    "        \n",
    "    def __len__(self):\n",
    "        return self.df.shape[0]\n",
    "    \n",
    "    def __get_item__(self, idx):\n",
    "        return self.df.iloc[idx,:]\n",
    "    \n",
    "    def __get_all_items__(self):\n",
    "        return self.df\n",
    "\n",
    "df = EmotionDataset(df, 30000)"
   ]
  },
  {
   "cell_type": "code",
   "execution_count": 122,
   "metadata": {},
   "outputs": [
    {
     "data": {
      "text/plain": [
       "label\n",
       "4    5069\n",
       "1    5039\n",
       "0    4987\n",
       "2    4984\n",
       "5    4982\n",
       "3    4939\n",
       "Name: count, dtype: int64"
      ]
     },
     "execution_count": 122,
     "metadata": {},
     "output_type": "execute_result"
    }
   ],
   "source": [
    "df = df.__get_all_items__()\n",
    "df.label.value_counts()"
   ]
  },
  {
   "cell_type": "code",
   "execution_count": 123,
   "metadata": {},
   "outputs": [],
   "source": [
    "# Creating a BERT tokenizer and a BERT model for sequence classification\n",
    "tokenizer = BertTokenizer.from_pretrained('bert-base-uncased')\n",
    "model = AutoModel.from_pretrained('bert-base-uncased')\n",
    "\n",
    "# Splitting the dataset into training and testing sets\n",
    "train_set, test_set, train_labels, test_labels = train_test_split(df['text'], df['label'], test_size=0.2, random_state=42)\n",
    "\n",
    "train_set = train_set.tolist()\n",
    "test_set = test_set.tolist()\n",
    "train_labels = torch.tensor(np.array(train_labels), dtype=torch.long)\n",
    "test_labels = torch.tensor(np.array(test_labels), dtype=torch.long)\n",
    "\n",
    "# Tokenizing the training and testing sets by padding or truncating the sequences to a maximum length of 128\n",
    "train_encodings = tokenizer(train_set, truncation=True, padding=True, max_length=128, return_tensors='pt')\n",
    "test_encodings = tokenizer(test_set, truncation=True, padding=True, max_length=128, return_tensors='pt')\n",
    "\n",
    "train_dataset = torch.utils.data.TensorDataset(train_encodings['input_ids'], train_encodings['attention_mask'], train_labels)\n",
    "test_dataset = torch.utils.data.TensorDataset(test_encodings['input_ids'], test_encodings['attention_mask'], test_labels)\n",
    "\n",
    "# Creating a DataLoader for the training and testing sets\n",
    "train_loader = DataLoader(train_dataset, batch_size=32, shuffle=True)\n",
    "test_loader = DataLoader(test_dataset, batch_size=32)\n"
   ]
  },
  {
   "cell_type": "code",
   "execution_count": 3,
   "metadata": {},
   "outputs": [],
   "source": [
    "class EmotionClassifier(torch.nn.Module):\n",
    "    def __init__(self, bert_model, num_classes):\n",
    "        super(EmotionClassifier, self).__init__()\n",
    "        self.bert_model = bert_model\n",
    "        self.linear = torch.nn.Linear(768, num_classes)\n",
    "    \n",
    "    def forward(self, inputs, attention_mask):\n",
    "        outputs = self.bert_model(inputs, attention_mask)\n",
    "        # We only need the pooled output of the [CLS] token\n",
    "        outputs = self.linear(outputs.pooler_output)\n",
    "        return outputs"
   ]
  },
  {
   "cell_type": "code",
   "execution_count": 125,
   "metadata": {},
   "outputs": [
    {
     "name": "stdout",
     "output_type": "stream",
     "text": [
      "- Epoch 0:\n",
      "Training Loss: 0.61 | Training Accuracy: 0.79\n",
      "- Epoch 1:\n",
      "Training Loss: 0.17 | Training Accuracy: 0.94\n",
      "- Epoch 2:\n",
      "Training Loss: 0.13 | Training Accuracy: 0.95\n"
     ]
    }
   ],
   "source": [
    "device = torch.device('cuda' if torch.cuda.is_available() else 'cpu')\n",
    "model = EmotionClassifier(model, 6).to(device)\n",
    "\n",
    "optimize = torch.optim.Adam(model.parameters(), lr=1e-5)\n",
    "criterion = torch.nn.CrossEntropyLoss()\n",
    "\n",
    "for epoch in range(3):\n",
    "    \n",
    "    model.train()\n",
    "    total_loss = 0.0\n",
    "    total_correct = 0\n",
    "    \n",
    "    for batch in train_loader:\n",
    "        \n",
    "        input_ids, attention_mask, labels = batch\n",
    "        input_ids = input_ids.to(device)\n",
    "        attention_mask = attention_mask.to(device)\n",
    "        labels = labels.to(device)\n",
    "        \n",
    "        outputs = model(input_ids, attention_mask)\n",
    "        \n",
    "        loss = criterion(outputs, labels)\n",
    "        \n",
    "        optimize.zero_grad()\n",
    "        loss.backward()\n",
    "        optimize.step()\n",
    "        \n",
    "        total_loss += loss.item()\n",
    "        total_correct += torch.sum(torch.argmax(outputs, dim=1) == labels).item()\n",
    "    \n",
    "    train_loss = total_loss / len(train_loader)\n",
    "    train_accuracy = total_correct / len(train_set)\n",
    "    \n",
    "    print(f'- Epoch {epoch}:')\n",
    "    print(f'Training Loss: {train_loss:.2f} | Training Accuracy: {train_accuracy:.2f}')\n",
    "\n",
    "# Saving the trained model\n",
    "save_path = 'trained_model/bert_emotion_classifier.pth'\n",
    "torch.save(model.state_dict(), save_path)\n"
   ]
  },
  {
   "cell_type": "code",
   "execution_count": 126,
   "metadata": {},
   "outputs": [
    {
     "name": "stdout",
     "output_type": "stream",
     "text": [
      "Test Accuracy: 0.95\n"
     ]
    },
    {
     "data": {
      "image/png": "[encoded data removed]",
      "text/plain": [
       "<Figure size 640x480 with 2 Axes>"
      ]
     },
     "metadata": {},
     "output_type": "display_data"
    }
   ],
   "source": [
    "\n",
    "model.eval()\n",
    "total_val_correct = 0\n",
    "test_predictions = []\n",
    "test_labels = []\n",
    "\n",
    "with torch.no_grad():\n",
    "    \n",
    "    for batch in test_loader:\n",
    "        \n",
    "        input_ids, attention_mask, labels = batch\n",
    "        input_ids = input_ids.to(device)\n",
    "        attention_mask = attention_mask.to(device)\n",
    "        labels = labels.to(device)\n",
    "        \n",
    "        outputs = model(input_ids, attention_mask)\n",
    "\n",
    "        total_val_correct += torch.sum(torch.argmax(outputs, dim=1) == labels).item()\n",
    "        \n",
    "        test_predictions.extend(torch.argmax(outputs, dim=1).cpu().numpy())\n",
    "        test_labels.extend(labels.cpu().numpy())\n",
    "\n",
    "val_accuracy = total_val_correct / len(test_set)\n",
    "print(f'Test Accuracy: {val_accuracy:.2f}')\n",
    "\n",
    "# Plot the confusion matrix\n",
    "conf_matrix = confusion_matrix(np.array(test_labels), np.array(test_predictions), labels=[0, 1, 2, 3, 4, 5])\n",
    "\n",
    "disp = ConfusionMatrixDisplay(conf_matrix, display_labels=['sadness', 'joy', 'love', 'anger', 'fear', 'surprise'])\n",
    "\n",
    "disp.plot(cmap=plt.cm.Blues, values_format='d')\n",
    "plt.title('Confusion Matrix')\n",
    "plt.show()"
   ]
  },
  {
   "cell_type": "code",
   "execution_count": 4,
   "metadata": {},
   "outputs": [
    {
     "data": {
      "application/vnd.jupyter.widget-view+json": {
       "model_id": "a0642a65af0e416a9288369ef697e748",
       "version_major": 2,
       "version_minor": 0
      },
      "text/plain": [
       "VBox(children=(HTML(value='<center> <img\\nsrc=https://huggingface.co/front/assets/huggingface_logo-noborder.sv…"
      ]
     },
     "metadata": {},
     "output_type": "display_data"
    },
    {
     "ename": "AttributeError",
     "evalue": "'EmotionClassifier' object has no attribute 'save_pretrained'",
     "output_type": "error",
     "traceback": [
      "\u001b[1;31m---------------------------------------------------------------------------\u001b[0m",
      "\u001b[1;31mAttributeError\u001b[0m                            Traceback (most recent call last)",
      "Cell \u001b[1;32mIn[4], line 17\u001b[0m\n\u001b[0;32m     15\u001b[0m \u001b[38;5;66;03m# Save the model locally\u001b[39;00m\n\u001b[0;32m     16\u001b[0m model_save_path \u001b[38;5;241m=\u001b[39m \u001b[38;5;124m'\u001b[39m\u001b[38;5;124mtrained_model/bert_emotion_classifier.pth\u001b[39m\u001b[38;5;124m'\u001b[39m\n\u001b[1;32m---> 17\u001b[0m \u001b[43mmodel\u001b[49m\u001b[38;5;241;43m.\u001b[39;49m\u001b[43msave_pretrained\u001b[49m(model_save_path)\n\u001b[0;32m     19\u001b[0m \u001b[38;5;66;03m# Push the model to the Hugging Face Hub\u001b[39;00m\n\u001b[0;32m     20\u001b[0m model\u001b[38;5;241m.\u001b[39mpush_to_hub(\u001b[38;5;124m\"\u001b[39m\u001b[38;5;124mMaxLSB/bert-emotion-classification\u001b[39m\u001b[38;5;124m\"\u001b[39m)\n",
      "File \u001b[1;32mc:\\Users\\mlasb\\AppData\\Local\\Programs\\Python\\Python312\\Lib\\site-packages\\torch\\nn\\modules\\module.py:1709\u001b[0m, in \u001b[0;36mModule.__getattr__\u001b[1;34m(self, name)\u001b[0m\n\u001b[0;32m   1707\u001b[0m     \u001b[38;5;28;01mif\u001b[39;00m name \u001b[38;5;129;01min\u001b[39;00m modules:\n\u001b[0;32m   1708\u001b[0m         \u001b[38;5;28;01mreturn\u001b[39;00m modules[name]\n\u001b[1;32m-> 1709\u001b[0m \u001b[38;5;28;01mraise\u001b[39;00m \u001b[38;5;167;01mAttributeError\u001b[39;00m(\u001b[38;5;124mf\u001b[39m\u001b[38;5;124m\"\u001b[39m\u001b[38;5;124m'\u001b[39m\u001b[38;5;132;01m{\u001b[39;00m\u001b[38;5;28mtype\u001b[39m(\u001b[38;5;28mself\u001b[39m)\u001b[38;5;241m.\u001b[39m\u001b[38;5;18m__name__\u001b[39m\u001b[38;5;132;01m}\u001b[39;00m\u001b[38;5;124m'\u001b[39m\u001b[38;5;124m object has no attribute \u001b[39m\u001b[38;5;124m'\u001b[39m\u001b[38;5;132;01m{\u001b[39;00mname\u001b[38;5;132;01m}\u001b[39;00m\u001b[38;5;124m'\u001b[39m\u001b[38;5;124m\"\u001b[39m)\n",
      "\u001b[1;31mAttributeError\u001b[0m: 'EmotionClassifier' object has no attribute 'save_pretrained'"
     ]
    }
   ],
   "source": [
    "# Saving the model to the Hugging Face Hub\n",
    "\n",
    "from transformers import BertTokenizer, AutoModel\n",
    "from huggingface_hub import notebook_login\n",
    "\n",
    "tokenizer = BertTokenizer.from_pretrained('bert-base-uncased')\n",
    "bert_model = AutoModel.from_pretrained('bert-base-uncased')\n",
    "\n",
    "num_classes = 6  \n",
    "model = EmotionClassifier(bert_model, num_classes)\n",
    "\n",
    "# Log in to the Hugging Face Hub (only needed if you're not logged in)\n",
    "notebook_login()\n",
    "\n",
    "# Save the model locally\n",
    "model_save_path = 'trained_model/bert_emotion_classifier'\n",
    "model.save_pretrained(model_save_path)\n",
    "\n",
    "# Push the model to the Hugging Face Hub\n",
    "model.push_to_hub(\"MaxLSB/bert-emotion-classification\")\n",
    "\n",
    "# You can also push the configuration to the Hub (optional, if you modified the configuration)\n",
    "config = bert_model.config\n",
    "config.save_pretrained(model_save_path)\n",
    "config.push_to_hub(\"MaxLSB/bert-emotion-classification\")"
   ]
  },
  {
   "cell_type": "code",
   "execution_count": null,
   "metadata": {},
   "outputs": [],
   "source": []
  }
 ],
 "metadata": {
  "kernelspec": {
   "display_name": "Python 3",
   "language": "python",
   "name": "python3"
  },
  "language_info": {
   "codemirror_mode": {
    "name": "ipython",
    "version": 3
   },
   "file_extension": ".py",
   "mimetype": "text/x-python",
   "name": "python",
   "nbconvert_exporter": "python",
   "pygments_lexer": "ipython3",
   "version": "3.12.4"
  }
 },
 "nbformat": 4,
 "nbformat_minor": 2
}
